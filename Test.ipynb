{
 "cells": [
  {
   "cell_type": "code",
   "execution_count": 1,
   "id": "d06cde07",
   "metadata": {},
   "outputs": [
    {
     "name": "stdout",
     "output_type": "stream",
     "text": [
      "age\t name\t roll_number\t \n"
     ]
    }
   ],
   "source": [
    "roll_number = 12\n",
    "name = 'Chaitanya Baweja'\n",
    "age = 14\n",
    "\n",
    "%who \n",
    "\n",
    "# Output\n",
    "# age name roll_number"
   ]
  },
  {
   "cell_type": "code",
   "execution_count": 8,
   "id": "b4ddd565",
   "metadata": {},
   "outputs": [
    {
     "data": {
      "text/html": [
       "<html>\n",
       "<body>\n",
       "<h3>Student Marks</h3>\n",
       "<table>\n",
       "        <tr> \n",
       "            <th>Name</th> \n",
       "            <th>Roll</th> \n",
       "            <th>Age</th>\n",
       "            <th>Marks</th>\n",
       "        </tr> \n",
       "        <tr> \n",
       "            <td>Chaitanya</td> \n",
       "            <td>12</td> \n",
       "            <td>14</td>\n",
       "            <td>93</td>\n",
       "        </tr>\n",
       "        <tr> \n",
       "            <td>Karan</td> \n",
       "            <td>13</td> \n",
       "            <td>15</td>\n",
       "            <td>92</td>\n",
       "        </tr>\n",
       "</table>\n",
       "</body>\n",
       "</html>\n"
      ],
      "text/plain": [
       "<IPython.core.display.HTML object>"
      ]
     },
     "metadata": {},
     "output_type": "display_data"
    }
   ],
   "source": [
    "%%html\n",
    "<html>\n",
    "<body>\n",
    "<h3>Student Marks</h3>\n",
    "<table>\n",
    "        <tr> \n",
    "            <th>Name</th> \n",
    "            <th>Roll</th> \n",
    "            <th>Age</th>\n",
    "            <th>Marks</th>\n",
    "        </tr> \n",
    "        <tr> \n",
    "            <td>Chaitanya</td> \n",
    "            <td>12</td> \n",
    "            <td>14</td>\n",
    "            <td>93</td>\n",
    "        </tr>\n",
    "        <tr> \n",
    "            <td>Karan</td> \n",
    "            <td>13</td> \n",
    "            <td>15</td>\n",
    "            <td>92</td>\n",
    "        </tr>\n",
    "</table>\n",
    "</body>\n",
    "</html>"
   ]
  },
  {
   "cell_type": "markdown",
   "id": "846e5f81",
   "metadata": {},
   "source": [
    "# Test"
   ]
  },
  {
   "cell_type": "markdown",
   "id": "6d83277a",
   "metadata": {},
   "source": [
    "# Test 3"
   ]
  }
 ],
 "metadata": {
  "kernelspec": {
   "display_name": "Python 3 (ipykernel)",
   "language": "python",
   "name": "python3"
  },
  "language_info": {
   "codemirror_mode": {
    "name": "ipython",
    "version": 3
   },
   "file_extension": ".py",
   "mimetype": "text/x-python",
   "name": "python",
   "nbconvert_exporter": "python",
   "pygments_lexer": "ipython3",
   "version": "3.10.4"
  }
 },
 "nbformat": 4,
 "nbformat_minor": 5
}
